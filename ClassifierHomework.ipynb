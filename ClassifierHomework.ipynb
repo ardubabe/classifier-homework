{
 "cells": [
  {
   "cell_type": "code",
   "execution_count": 380,
   "id": "ea8113a1",
   "metadata": {},
   "outputs": [],
   "source": [
    "import pandas as pd"
   ]
  },
  {
   "cell_type": "code",
   "execution_count": 381,
   "id": "13fc7b28",
   "metadata": {},
   "outputs": [],
   "source": [
    "# set path to our file\n",
    "path = 'villagers.csv'\n",
    "# convert our csv file to a pandas DataFrame\n",
    "# converters allows pandas to know that villagers is a list, not a string\n",
    "villagers = pd.read_csv(path)"
   ]
  },
  {
   "cell_type": "code",
   "execution_count": 382,
   "id": "ef0e3b12",
   "metadata": {
    "scrolled": true
   },
   "outputs": [
    {
     "data": {
      "text/html": [
       "<div>\n",
       "<style scoped>\n",
       "    .dataframe tbody tr th:only-of-type {\n",
       "        vertical-align: middle;\n",
       "    }\n",
       "\n",
       "    .dataframe tbody tr th {\n",
       "        vertical-align: top;\n",
       "    }\n",
       "\n",
       "    .dataframe thead th {\n",
       "        text-align: right;\n",
       "    }\n",
       "</style>\n",
       "<table border=\"1\" class=\"dataframe\">\n",
       "  <thead>\n",
       "    <tr style=\"text-align: right;\">\n",
       "      <th></th>\n",
       "      <th>Name</th>\n",
       "      <th>Species</th>\n",
       "      <th>Gender</th>\n",
       "      <th>Personality</th>\n",
       "      <th>Hobby</th>\n",
       "      <th>Birthday</th>\n",
       "      <th>Catchphrase</th>\n",
       "      <th>Favorite Song</th>\n",
       "      <th>Style 1</th>\n",
       "      <th>Style 2</th>\n",
       "      <th>Color 1</th>\n",
       "      <th>Color 2</th>\n",
       "      <th>Wallpaper</th>\n",
       "      <th>Flooring</th>\n",
       "      <th>Furniture List</th>\n",
       "      <th>Filename</th>\n",
       "      <th>Unique Entry ID</th>\n",
       "    </tr>\n",
       "  </thead>\n",
       "  <tbody>\n",
       "    <tr>\n",
       "      <th>0</th>\n",
       "      <td>Admiral</td>\n",
       "      <td>Bird</td>\n",
       "      <td>Male</td>\n",
       "      <td>Cranky</td>\n",
       "      <td>Nature</td>\n",
       "      <td>27-Jan</td>\n",
       "      <td>aye aye</td>\n",
       "      <td>Steep Hill</td>\n",
       "      <td>Cool</td>\n",
       "      <td>Cool</td>\n",
       "      <td>Black</td>\n",
       "      <td>Blue</td>\n",
       "      <td>dirt-clod wall</td>\n",
       "      <td>tatami</td>\n",
       "      <td>717;1849;7047;2736;787;5970;3449;3622;3802;410...</td>\n",
       "      <td>brd06</td>\n",
       "      <td>B3RyfNEqwGmcccRC3</td>\n",
       "    </tr>\n",
       "    <tr>\n",
       "      <th>1</th>\n",
       "      <td>Agent S</td>\n",
       "      <td>Squirrel</td>\n",
       "      <td>Female</td>\n",
       "      <td>Peppy</td>\n",
       "      <td>Fitness</td>\n",
       "      <td>2-Jul</td>\n",
       "      <td>sidekick</td>\n",
       "      <td>Go K.K. Rider</td>\n",
       "      <td>Active</td>\n",
       "      <td>Simple</td>\n",
       "      <td>Blue</td>\n",
       "      <td>Black</td>\n",
       "      <td>concrete wall</td>\n",
       "      <td>colorful tile flooring</td>\n",
       "      <td>7845;7150;3468;4080;290;3971;3449;1708;4756;25...</td>\n",
       "      <td>squ05</td>\n",
       "      <td>SGMdki6dzpDZyXAw5</td>\n",
       "    </tr>\n",
       "    <tr>\n",
       "      <th>2</th>\n",
       "      <td>Agnes</td>\n",
       "      <td>Pig</td>\n",
       "      <td>Female</td>\n",
       "      <td>Big Sister</td>\n",
       "      <td>Play</td>\n",
       "      <td>21-Apr</td>\n",
       "      <td>snuffle</td>\n",
       "      <td>K.K. House</td>\n",
       "      <td>Simple</td>\n",
       "      <td>Elegant</td>\n",
       "      <td>Pink</td>\n",
       "      <td>White</td>\n",
       "      <td>gray molded-panel wall</td>\n",
       "      <td>arabesque flooring</td>\n",
       "      <td>4129;7236;7235;7802;896;3428;4027;7325;3958;71...</td>\n",
       "      <td>pig17</td>\n",
       "      <td>jzWCiDPm9MqtCfecP</td>\n",
       "    </tr>\n",
       "    <tr>\n",
       "      <th>3</th>\n",
       "      <td>Al</td>\n",
       "      <td>Gorilla</td>\n",
       "      <td>Male</td>\n",
       "      <td>Lazy</td>\n",
       "      <td>Fitness</td>\n",
       "      <td>18-Oct</td>\n",
       "      <td>ayyyeee</td>\n",
       "      <td>Go K.K. Rider</td>\n",
       "      <td>Active</td>\n",
       "      <td>Active</td>\n",
       "      <td>Red</td>\n",
       "      <td>White</td>\n",
       "      <td>concrete wall</td>\n",
       "      <td>green rubber flooring</td>\n",
       "      <td>1452;4078;4013;833;4116;3697;7845;3307;3946;39...</td>\n",
       "      <td>gor08</td>\n",
       "      <td>LBifxETQJGEaLhBjC</td>\n",
       "    </tr>\n",
       "    <tr>\n",
       "      <th>4</th>\n",
       "      <td>Alfonso</td>\n",
       "      <td>Alligator</td>\n",
       "      <td>Male</td>\n",
       "      <td>Lazy</td>\n",
       "      <td>Play</td>\n",
       "      <td>9-Jun</td>\n",
       "      <td>it'sa me</td>\n",
       "      <td>Forest Life</td>\n",
       "      <td>Simple</td>\n",
       "      <td>Simple</td>\n",
       "      <td>Red</td>\n",
       "      <td>Blue</td>\n",
       "      <td>yellow playroom wall</td>\n",
       "      <td>green honeycomb tile</td>\n",
       "      <td>4763;3205;3701;1557;3623;85;3208;3584;4761;121...</td>\n",
       "      <td>crd00</td>\n",
       "      <td>REpd8KxB8p9aGBRSE</td>\n",
       "    </tr>\n",
       "    <tr>\n",
       "      <th>...</th>\n",
       "      <td>...</td>\n",
       "      <td>...</td>\n",
       "      <td>...</td>\n",
       "      <td>...</td>\n",
       "      <td>...</td>\n",
       "      <td>...</td>\n",
       "      <td>...</td>\n",
       "      <td>...</td>\n",
       "      <td>...</td>\n",
       "      <td>...</td>\n",
       "      <td>...</td>\n",
       "      <td>...</td>\n",
       "      <td>...</td>\n",
       "      <td>...</td>\n",
       "      <td>...</td>\n",
       "      <td>...</td>\n",
       "      <td>...</td>\n",
       "    </tr>\n",
       "    <tr>\n",
       "      <th>386</th>\n",
       "      <td>Winnie</td>\n",
       "      <td>Horse</td>\n",
       "      <td>Female</td>\n",
       "      <td>Peppy</td>\n",
       "      <td>Fashion</td>\n",
       "      <td>31-Jan</td>\n",
       "      <td>hay-OK</td>\n",
       "      <td>K.K. Country</td>\n",
       "      <td>Cool</td>\n",
       "      <td>Simple</td>\n",
       "      <td>White</td>\n",
       "      <td>Gray</td>\n",
       "      <td>backyard-fence wall</td>\n",
       "      <td>backyard lawn</td>\n",
       "      <td>1626;1626;5970;4003;3509;1620;1627;3467;1631;1...</td>\n",
       "      <td>hrs05</td>\n",
       "      <td>b4HwfyvThyipScSAv</td>\n",
       "    </tr>\n",
       "    <tr>\n",
       "      <th>387</th>\n",
       "      <td>Wolfgang</td>\n",
       "      <td>Wolf</td>\n",
       "      <td>Male</td>\n",
       "      <td>Cranky</td>\n",
       "      <td>Education</td>\n",
       "      <td>25-Nov</td>\n",
       "      <td>snarrrl</td>\n",
       "      <td>K.K. D&amp;B</td>\n",
       "      <td>Cool</td>\n",
       "      <td>Active</td>\n",
       "      <td>Black</td>\n",
       "      <td>Green</td>\n",
       "      <td>dark wooden-mosaic wall</td>\n",
       "      <td>stripe flooring</td>\n",
       "      <td>4117;7323;7323;3275;4109;3270;3196;4338;3200;3...</td>\n",
       "      <td>wol02</td>\n",
       "      <td>RbF2wcn6jRxtgLDRd</td>\n",
       "    </tr>\n",
       "    <tr>\n",
       "      <th>388</th>\n",
       "      <td>Yuka</td>\n",
       "      <td>Koala</td>\n",
       "      <td>Female</td>\n",
       "      <td>Snooty</td>\n",
       "      <td>Fashion</td>\n",
       "      <td>20-Jul</td>\n",
       "      <td>tsk tsk</td>\n",
       "      <td>Soulful K.K.</td>\n",
       "      <td>Cool</td>\n",
       "      <td>Elegant</td>\n",
       "      <td>Orange</td>\n",
       "      <td>Yellow</td>\n",
       "      <td>beige art-deco wall</td>\n",
       "      <td>simple purple flooring</td>\n",
       "      <td>3957;3955;2554;3974;3951;794;4106;3959;3958;997</td>\n",
       "      <td>kal00</td>\n",
       "      <td>QDcxk3dCNT6yeD9hk</td>\n",
       "    </tr>\n",
       "    <tr>\n",
       "      <th>389</th>\n",
       "      <td>Zell</td>\n",
       "      <td>Deer</td>\n",
       "      <td>Male</td>\n",
       "      <td>Smug</td>\n",
       "      <td>Music</td>\n",
       "      <td>7-Jun</td>\n",
       "      <td>pronk</td>\n",
       "      <td>K.K. Swing</td>\n",
       "      <td>Cool</td>\n",
       "      <td>Gorgeous</td>\n",
       "      <td>Purple</td>\n",
       "      <td>Gray</td>\n",
       "      <td>cityscape wall</td>\n",
       "      <td>monochromatic tile flooring</td>\n",
       "      <td>1875;863;4129;4053;4053;3951;794;3775;4046;423...</td>\n",
       "      <td>der02</td>\n",
       "      <td>LodBWtdMRZbjFNga9</td>\n",
       "    </tr>\n",
       "    <tr>\n",
       "      <th>390</th>\n",
       "      <td>Zucker</td>\n",
       "      <td>Octopus</td>\n",
       "      <td>Male</td>\n",
       "      <td>Lazy</td>\n",
       "      <td>Nature</td>\n",
       "      <td>8-Mar</td>\n",
       "      <td>bloop</td>\n",
       "      <td>Spring Blossoms</td>\n",
       "      <td>Simple</td>\n",
       "      <td>Cute</td>\n",
       "      <td>Blue</td>\n",
       "      <td>Yellow</td>\n",
       "      <td>chain-link fence</td>\n",
       "      <td>backyard lawn</td>\n",
       "      <td>4042;4412;7526;4077;4077;3064;4077;3946;3617;3...</td>\n",
       "      <td>ocp02</td>\n",
       "      <td>2F5tipHqgmWvWXTLC</td>\n",
       "    </tr>\n",
       "  </tbody>\n",
       "</table>\n",
       "<p>391 rows × 17 columns</p>\n",
       "</div>"
      ],
      "text/plain": [
       "         Name    Species  Gender Personality      Hobby Birthday Catchphrase  \\\n",
       "0     Admiral       Bird    Male      Cranky     Nature   27-Jan     aye aye   \n",
       "1     Agent S   Squirrel  Female       Peppy    Fitness    2-Jul    sidekick   \n",
       "2       Agnes        Pig  Female  Big Sister       Play   21-Apr     snuffle   \n",
       "3          Al    Gorilla    Male        Lazy    Fitness   18-Oct     ayyyeee   \n",
       "4     Alfonso  Alligator    Male        Lazy       Play    9-Jun    it'sa me   \n",
       "..        ...        ...     ...         ...        ...      ...         ...   \n",
       "386    Winnie      Horse  Female       Peppy    Fashion   31-Jan      hay-OK   \n",
       "387  Wolfgang       Wolf    Male      Cranky  Education   25-Nov     snarrrl   \n",
       "388      Yuka      Koala  Female      Snooty    Fashion   20-Jul     tsk tsk   \n",
       "389      Zell       Deer    Male        Smug      Music    7-Jun       pronk   \n",
       "390    Zucker    Octopus    Male        Lazy     Nature    8-Mar       bloop   \n",
       "\n",
       "       Favorite Song Style 1   Style 2 Color 1 Color 2  \\\n",
       "0         Steep Hill    Cool      Cool   Black    Blue   \n",
       "1      Go K.K. Rider  Active    Simple    Blue   Black   \n",
       "2         K.K. House  Simple   Elegant    Pink   White   \n",
       "3      Go K.K. Rider  Active    Active     Red   White   \n",
       "4        Forest Life  Simple    Simple     Red    Blue   \n",
       "..               ...     ...       ...     ...     ...   \n",
       "386     K.K. Country    Cool    Simple   White    Gray   \n",
       "387         K.K. D&B    Cool    Active   Black   Green   \n",
       "388     Soulful K.K.    Cool   Elegant  Orange  Yellow   \n",
       "389       K.K. Swing    Cool  Gorgeous  Purple    Gray   \n",
       "390  Spring Blossoms  Simple      Cute    Blue  Yellow   \n",
       "\n",
       "                   Wallpaper                     Flooring  \\\n",
       "0             dirt-clod wall                       tatami   \n",
       "1              concrete wall       colorful tile flooring   \n",
       "2     gray molded-panel wall           arabesque flooring   \n",
       "3              concrete wall        green rubber flooring   \n",
       "4       yellow playroom wall         green honeycomb tile   \n",
       "..                       ...                          ...   \n",
       "386      backyard-fence wall                backyard lawn   \n",
       "387  dark wooden-mosaic wall              stripe flooring   \n",
       "388      beige art-deco wall       simple purple flooring   \n",
       "389           cityscape wall  monochromatic tile flooring   \n",
       "390         chain-link fence                backyard lawn   \n",
       "\n",
       "                                        Furniture List Filename  \\\n",
       "0    717;1849;7047;2736;787;5970;3449;3622;3802;410...    brd06   \n",
       "1    7845;7150;3468;4080;290;3971;3449;1708;4756;25...    squ05   \n",
       "2    4129;7236;7235;7802;896;3428;4027;7325;3958;71...    pig17   \n",
       "3    1452;4078;4013;833;4116;3697;7845;3307;3946;39...    gor08   \n",
       "4    4763;3205;3701;1557;3623;85;3208;3584;4761;121...    crd00   \n",
       "..                                                 ...      ...   \n",
       "386  1626;1626;5970;4003;3509;1620;1627;3467;1631;1...    hrs05   \n",
       "387  4117;7323;7323;3275;4109;3270;3196;4338;3200;3...    wol02   \n",
       "388    3957;3955;2554;3974;3951;794;4106;3959;3958;997    kal00   \n",
       "389  1875;863;4129;4053;4053;3951;794;3775;4046;423...    der02   \n",
       "390  4042;4412;7526;4077;4077;3064;4077;3946;3617;3...    ocp02   \n",
       "\n",
       "       Unique Entry ID  \n",
       "0    B3RyfNEqwGmcccRC3  \n",
       "1    SGMdki6dzpDZyXAw5  \n",
       "2    jzWCiDPm9MqtCfecP  \n",
       "3    LBifxETQJGEaLhBjC  \n",
       "4    REpd8KxB8p9aGBRSE  \n",
       "..                 ...  \n",
       "386  b4HwfyvThyipScSAv  \n",
       "387  RbF2wcn6jRxtgLDRd  \n",
       "388  QDcxk3dCNT6yeD9hk  \n",
       "389  LodBWtdMRZbjFNga9  \n",
       "390  2F5tipHqgmWvWXTLC  \n",
       "\n",
       "[391 rows x 17 columns]"
      ]
     },
     "execution_count": 382,
     "metadata": {},
     "output_type": "execute_result"
    }
   ],
   "source": [
    "# print out our dataset\n",
    "villagers"
   ]
  },
  {
   "cell_type": "code",
   "execution_count": 383,
   "id": "5f878280",
   "metadata": {},
   "outputs": [],
   "source": [
    "# using dot notation as thanks to pandas and no space in the column name\n",
    "personalities = villagers.Personality"
   ]
  },
  {
   "cell_type": "code",
   "execution_count": 384,
   "id": "b7d32856",
   "metadata": {},
   "outputs": [
    {
     "data": {
      "text/plain": [
       "'Cranky'"
      ]
     },
     "execution_count": 384,
     "metadata": {},
     "output_type": "execute_result"
    }
   ],
   "source": [
    "# print the personality for the first villager\n",
    "personalities[0]"
   ]
  },
  {
   "cell_type": "code",
   "execution_count": 385,
   "id": "889cafd3",
   "metadata": {},
   "outputs": [
    {
     "data": {
      "text/plain": [
       "str"
      ]
     },
     "execution_count": 385,
     "metadata": {},
     "output_type": "execute_result"
    }
   ],
   "source": [
    "# check what data type this is\n",
    "type(personalities[0])"
   ]
  },
  {
   "cell_type": "code",
   "execution_count": 386,
   "id": "10d89b05",
   "metadata": {},
   "outputs": [
    {
     "data": {
      "text/plain": [
       "array(['Cranky', 'Peppy', 'Big Sister', 'Lazy', 'Normal', 'Snooty',\n",
       "       'Jock', 'Smug'], dtype=object)"
      ]
     },
     "execution_count": 386,
     "metadata": {},
     "output_type": "execute_result"
    }
   ],
   "source": [
    "villagers.Personality.unique()"
   ]
  },
  {
   "cell_type": "code",
   "execution_count": 387,
   "id": "26361f6d",
   "metadata": {},
   "outputs": [
    {
     "data": {
      "text/plain": [
       "8"
      ]
     },
     "execution_count": 387,
     "metadata": {},
     "output_type": "execute_result"
    }
   ],
   "source": [
    "# see how many different personalities there are\n",
    "len(villagers.Personality.unique())"
   ]
  },
  {
   "cell_type": "code",
   "execution_count": 388,
   "id": "3a52f681",
   "metadata": {},
   "outputs": [],
   "source": [
    "hobbies = villagers.Hobby"
   ]
  },
  {
   "cell_type": "code",
   "execution_count": 389,
   "id": "3805f242",
   "metadata": {},
   "outputs": [
    {
     "data": {
      "text/plain": [
       "'Nature'"
      ]
     },
     "execution_count": 389,
     "metadata": {},
     "output_type": "execute_result"
    }
   ],
   "source": [
    "hobbies[0]"
   ]
  },
  {
   "cell_type": "code",
   "execution_count": 390,
   "id": "96438061",
   "metadata": {},
   "outputs": [
    {
     "data": {
      "text/plain": [
       "array(['Nature', 'Fitness', 'Play', 'Education', 'Fashion', 'Music'],\n",
       "      dtype=object)"
      ]
     },
     "execution_count": 390,
     "metadata": {},
     "output_type": "execute_result"
    }
   ],
   "source": [
    "villagers.Hobby.unique()"
   ]
  },
  {
   "cell_type": "code",
   "execution_count": 391,
   "id": "c0e5740a",
   "metadata": {},
   "outputs": [
    {
     "data": {
      "text/plain": [
       "6"
      ]
     },
     "execution_count": 391,
     "metadata": {},
     "output_type": "execute_result"
    }
   ],
   "source": [
    "# see how many different hobbies there are\n",
    "len(villagers.Hobby.unique())"
   ]
  },
  {
   "cell_type": "code",
   "execution_count": 392,
   "id": "59eddb26",
   "metadata": {},
   "outputs": [],
   "source": [
    "species = villagers.Species"
   ]
  },
  {
   "cell_type": "code",
   "execution_count": 393,
   "id": "985b10f5",
   "metadata": {},
   "outputs": [
    {
     "data": {
      "text/plain": [
       "'Bird'"
      ]
     },
     "execution_count": 393,
     "metadata": {},
     "output_type": "execute_result"
    }
   ],
   "source": [
    "species[0]"
   ]
  },
  {
   "cell_type": "code",
   "execution_count": 394,
   "id": "f0e7e494",
   "metadata": {},
   "outputs": [
    {
     "data": {
      "text/plain": [
       "array(['Bird', 'Squirrel', 'Pig', 'Gorilla', 'Alligator', 'Koala',\n",
       "       'Eagle', 'Anteater', 'Bull', 'Mouse', 'Cat', 'Horse', 'Hamster',\n",
       "       'Kangaroo', 'Wolf', 'Penguin', 'Chicken', 'Elephant', 'Sheep',\n",
       "       'Deer', 'Tiger', 'Cub', 'Dog', 'Bear', 'Hippo', 'Duck', 'Goat',\n",
       "       'Ostrich', 'Rabbit', 'Lion', 'Frog', 'Monkey', 'Rhino', 'Octopus',\n",
       "       'Cow'], dtype=object)"
      ]
     },
     "execution_count": 394,
     "metadata": {},
     "output_type": "execute_result"
    }
   ],
   "source": [
    "villagers.Species.unique()"
   ]
  },
  {
   "cell_type": "code",
   "execution_count": 395,
   "id": "7c181728",
   "metadata": {},
   "outputs": [
    {
     "data": {
      "text/plain": [
       "35"
      ]
     },
     "execution_count": 395,
     "metadata": {},
     "output_type": "execute_result"
    }
   ],
   "source": [
    "len(villagers.Species.unique())"
   ]
  },
  {
   "cell_type": "code",
   "execution_count": 396,
   "id": "39adfd6b",
   "metadata": {},
   "outputs": [],
   "source": [
    "genders = villagers.Gender"
   ]
  },
  {
   "cell_type": "code",
   "execution_count": 397,
   "id": "02dabcfe",
   "metadata": {},
   "outputs": [
    {
     "data": {
      "text/plain": [
       "0        Male\n",
       "1      Female\n",
       "2      Female\n",
       "3        Male\n",
       "4        Male\n",
       "        ...  \n",
       "386    Female\n",
       "387      Male\n",
       "388    Female\n",
       "389      Male\n",
       "390      Male\n",
       "Name: Gender, Length: 391, dtype: object"
      ]
     },
     "execution_count": 397,
     "metadata": {},
     "output_type": "execute_result"
    }
   ],
   "source": [
    "genders"
   ]
  },
  {
   "cell_type": "code",
   "execution_count": 398,
   "id": "fb6ddb3a",
   "metadata": {},
   "outputs": [
    {
     "data": {
      "text/plain": [
       "0.05555555555555555"
      ]
     },
     "execution_count": 398,
     "metadata": {},
     "output_type": "execute_result"
    }
   ],
   "source": [
    "1/18"
   ]
  },
  {
   "cell_type": "code",
   "execution_count": 399,
   "id": "893d7717",
   "metadata": {},
   "outputs": [],
   "source": [
    "# defining our features\n",
    "# key-value pairs\n",
    "# the keys will be the same for everyone, the values will differ\n",
    "# JUST AN EXAMPLE\n",
    "# {'Personality': Cranky, 'Hobby': Nature}"
   ]
  },
  {
   "cell_type": "code",
   "execution_count": 400,
   "id": "e992c7d6",
   "metadata": {},
   "outputs": [],
   "source": [
    "# our first function!\n",
    "def create_features(personalities_and_species):\n",
    "    #if len(personalities_and_species) == 1:\n",
    "        #personalities_and_species.append('Nothing')\n",
    "    return {'Personality': personalities[0], 'Gender': genders[0], 'Species': species[0]}"
   ]
  },
  {
   "cell_type": "code",
   "execution_count": 401,
   "id": "cd0e0003",
   "metadata": {},
   "outputs": [
    {
     "data": {
      "text/plain": [
       "<zip at 0x18d11421040>"
      ]
     },
     "execution_count": 401,
     "metadata": {},
     "output_type": "execute_result"
    }
   ],
   "source": [
    "# zip combines our two columns\n",
    "# we are making tuples\n",
    "# syntax for tuple (thing1, thing2)\n",
    "# (Cranky, Nature)\n",
    "features_and_labels = zip(villagers.Personality, villagers.Hobby)\n",
    "features_and_labels"
   ]
  },
  {
   "cell_type": "code",
   "execution_count": 402,
   "id": "75eebac1",
   "metadata": {},
   "outputs": [
    {
     "data": {
      "text/plain": [
       "[({'Personality': 'Cranky', 'Gender': 'Male', 'Species': 'Bird'}, 'Nature'),\n",
       " ({'Personality': 'Cranky', 'Gender': 'Male', 'Species': 'Bird'}, 'Fitness'),\n",
       " ({'Personality': 'Cranky', 'Gender': 'Male', 'Species': 'Bird'}, 'Play'),\n",
       " ({'Personality': 'Cranky', 'Gender': 'Male', 'Species': 'Bird'}, 'Fitness'),\n",
       " ({'Personality': 'Cranky', 'Gender': 'Male', 'Species': 'Bird'}, 'Play'),\n",
       " ({'Personality': 'Cranky', 'Gender': 'Male', 'Species': 'Bird'}, 'Education'),\n",
       " ({'Personality': 'Cranky', 'Gender': 'Male', 'Species': 'Bird'}, 'Fashion'),\n",
       " ({'Personality': 'Cranky', 'Gender': 'Male', 'Species': 'Bird'}, 'Music'),\n",
       " ({'Personality': 'Cranky', 'Gender': 'Male', 'Species': 'Bird'}, 'Fashion'),\n",
       " ({'Personality': 'Cranky', 'Gender': 'Male', 'Species': 'Bird'}, 'Play'),\n",
       " ({'Personality': 'Cranky', 'Gender': 'Male', 'Species': 'Bird'}, 'Fitness'),\n",
       " ({'Personality': 'Cranky', 'Gender': 'Male', 'Species': 'Bird'}, 'Fashion'),\n",
       " ({'Personality': 'Cranky', 'Gender': 'Male', 'Species': 'Bird'}, 'Nature'),\n",
       " ({'Personality': 'Cranky', 'Gender': 'Male', 'Species': 'Bird'}, 'Nature'),\n",
       " ({'Personality': 'Cranky', 'Gender': 'Male', 'Species': 'Bird'}, 'Fashion'),\n",
       " ({'Personality': 'Cranky', 'Gender': 'Male', 'Species': 'Bird'}, 'Fitness'),\n",
       " ({'Personality': 'Cranky', 'Gender': 'Male', 'Species': 'Bird'}, 'Music'),\n",
       " ({'Personality': 'Cranky', 'Gender': 'Male', 'Species': 'Bird'}, 'Play'),\n",
       " ({'Personality': 'Cranky', 'Gender': 'Male', 'Species': 'Bird'}, 'Music'),\n",
       " ({'Personality': 'Cranky', 'Gender': 'Male', 'Species': 'Bird'}, 'Fitness'),\n",
       " ({'Personality': 'Cranky', 'Gender': 'Male', 'Species': 'Bird'}, 'Education'),\n",
       " ({'Personality': 'Cranky', 'Gender': 'Male', 'Species': 'Bird'}, 'Music'),\n",
       " ({'Personality': 'Cranky', 'Gender': 'Male', 'Species': 'Bird'}, 'Music'),\n",
       " ({'Personality': 'Cranky', 'Gender': 'Male', 'Species': 'Bird'}, 'Fitness'),\n",
       " ({'Personality': 'Cranky', 'Gender': 'Male', 'Species': 'Bird'}, 'Fashion'),\n",
       " ({'Personality': 'Cranky', 'Gender': 'Male', 'Species': 'Bird'}, 'Play'),\n",
       " ({'Personality': 'Cranky', 'Gender': 'Male', 'Species': 'Bird'}, 'Fashion'),\n",
       " ({'Personality': 'Cranky', 'Gender': 'Male', 'Species': 'Bird'}, 'Play'),\n",
       " ({'Personality': 'Cranky', 'Gender': 'Male', 'Species': 'Bird'}, 'Nature'),\n",
       " ({'Personality': 'Cranky', 'Gender': 'Male', 'Species': 'Bird'}, 'Education'),\n",
       " ({'Personality': 'Cranky', 'Gender': 'Male', 'Species': 'Bird'}, 'Nature'),\n",
       " ({'Personality': 'Cranky', 'Gender': 'Male', 'Species': 'Bird'}, 'Music'),\n",
       " ({'Personality': 'Cranky', 'Gender': 'Male', 'Species': 'Bird'}, 'Music'),\n",
       " ({'Personality': 'Cranky', 'Gender': 'Male', 'Species': 'Bird'}, 'Play'),\n",
       " ({'Personality': 'Cranky', 'Gender': 'Male', 'Species': 'Bird'}, 'Nature'),\n",
       " ({'Personality': 'Cranky', 'Gender': 'Male', 'Species': 'Bird'}, 'Education'),\n",
       " ({'Personality': 'Cranky', 'Gender': 'Male', 'Species': 'Bird'}, 'Education'),\n",
       " ({'Personality': 'Cranky', 'Gender': 'Male', 'Species': 'Bird'}, 'Play'),\n",
       " ({'Personality': 'Cranky', 'Gender': 'Male', 'Species': 'Bird'}, 'Fitness'),\n",
       " ({'Personality': 'Cranky', 'Gender': 'Male', 'Species': 'Bird'}, 'Play'),\n",
       " ({'Personality': 'Cranky', 'Gender': 'Male', 'Species': 'Bird'}, 'Play'),\n",
       " ({'Personality': 'Cranky', 'Gender': 'Male', 'Species': 'Bird'}, 'Play'),\n",
       " ({'Personality': 'Cranky', 'Gender': 'Male', 'Species': 'Bird'}, 'Play'),\n",
       " ({'Personality': 'Cranky', 'Gender': 'Male', 'Species': 'Bird'}, 'Education'),\n",
       " ({'Personality': 'Cranky', 'Gender': 'Male', 'Species': 'Bird'}, 'Fashion'),\n",
       " ({'Personality': 'Cranky', 'Gender': 'Male', 'Species': 'Bird'}, 'Nature'),\n",
       " ({'Personality': 'Cranky', 'Gender': 'Male', 'Species': 'Bird'}, 'Fashion'),\n",
       " ({'Personality': 'Cranky', 'Gender': 'Male', 'Species': 'Bird'}, 'Play'),\n",
       " ({'Personality': 'Cranky', 'Gender': 'Male', 'Species': 'Bird'}, 'Play'),\n",
       " ({'Personality': 'Cranky', 'Gender': 'Male', 'Species': 'Bird'}, 'Play'),\n",
       " ({'Personality': 'Cranky', 'Gender': 'Male', 'Species': 'Bird'}, 'Fitness'),\n",
       " ({'Personality': 'Cranky', 'Gender': 'Male', 'Species': 'Bird'}, 'Fitness'),\n",
       " ({'Personality': 'Cranky', 'Gender': 'Male', 'Species': 'Bird'}, 'Play'),\n",
       " ({'Personality': 'Cranky', 'Gender': 'Male', 'Species': 'Bird'}, 'Nature'),\n",
       " ({'Personality': 'Cranky', 'Gender': 'Male', 'Species': 'Bird'}, 'Fitness'),\n",
       " ({'Personality': 'Cranky', 'Gender': 'Male', 'Species': 'Bird'}, 'Fashion'),\n",
       " ({'Personality': 'Cranky', 'Gender': 'Male', 'Species': 'Bird'}, 'Play'),\n",
       " ({'Personality': 'Cranky', 'Gender': 'Male', 'Species': 'Bird'}, 'Music'),\n",
       " ({'Personality': 'Cranky', 'Gender': 'Male', 'Species': 'Bird'}, 'Nature'),\n",
       " ({'Personality': 'Cranky', 'Gender': 'Male', 'Species': 'Bird'}, 'Fashion'),\n",
       " ({'Personality': 'Cranky', 'Gender': 'Male', 'Species': 'Bird'}, 'Fitness'),\n",
       " ({'Personality': 'Cranky', 'Gender': 'Male', 'Species': 'Bird'}, 'Fitness'),\n",
       " ({'Personality': 'Cranky', 'Gender': 'Male', 'Species': 'Bird'}, 'Fashion'),\n",
       " ({'Personality': 'Cranky', 'Gender': 'Male', 'Species': 'Bird'}, 'Music'),\n",
       " ({'Personality': 'Cranky', 'Gender': 'Male', 'Species': 'Bird'}, 'Nature'),\n",
       " ({'Personality': 'Cranky', 'Gender': 'Male', 'Species': 'Bird'}, 'Nature'),\n",
       " ({'Personality': 'Cranky', 'Gender': 'Male', 'Species': 'Bird'}, 'Music'),\n",
       " ({'Personality': 'Cranky', 'Gender': 'Male', 'Species': 'Bird'}, 'Play'),\n",
       " ({'Personality': 'Cranky', 'Gender': 'Male', 'Species': 'Bird'}, 'Play'),\n",
       " ({'Personality': 'Cranky', 'Gender': 'Male', 'Species': 'Bird'}, 'Fashion'),\n",
       " ({'Personality': 'Cranky', 'Gender': 'Male', 'Species': 'Bird'}, 'Music'),\n",
       " ({'Personality': 'Cranky', 'Gender': 'Male', 'Species': 'Bird'}, 'Nature'),\n",
       " ({'Personality': 'Cranky', 'Gender': 'Male', 'Species': 'Bird'}, 'Fashion'),\n",
       " ({'Personality': 'Cranky', 'Gender': 'Male', 'Species': 'Bird'}, 'Nature'),\n",
       " ({'Personality': 'Cranky', 'Gender': 'Male', 'Species': 'Bird'}, 'Fitness'),\n",
       " ({'Personality': 'Cranky', 'Gender': 'Male', 'Species': 'Bird'}, 'Fitness'),\n",
       " ({'Personality': 'Cranky', 'Gender': 'Male', 'Species': 'Bird'}, 'Fitness'),\n",
       " ({'Personality': 'Cranky', 'Gender': 'Male', 'Species': 'Bird'}, 'Fashion'),\n",
       " ({'Personality': 'Cranky', 'Gender': 'Male', 'Species': 'Bird'}, 'Music'),\n",
       " ({'Personality': 'Cranky', 'Gender': 'Male', 'Species': 'Bird'}, 'Play'),\n",
       " ({'Personality': 'Cranky', 'Gender': 'Male', 'Species': 'Bird'}, 'Education'),\n",
       " ({'Personality': 'Cranky', 'Gender': 'Male', 'Species': 'Bird'}, 'Music'),\n",
       " ({'Personality': 'Cranky', 'Gender': 'Male', 'Species': 'Bird'}, 'Education'),\n",
       " ({'Personality': 'Cranky', 'Gender': 'Male', 'Species': 'Bird'}, 'Fitness'),\n",
       " ({'Personality': 'Cranky', 'Gender': 'Male', 'Species': 'Bird'}, 'Fashion'),\n",
       " ({'Personality': 'Cranky', 'Gender': 'Male', 'Species': 'Bird'}, 'Nature'),\n",
       " ({'Personality': 'Cranky', 'Gender': 'Male', 'Species': 'Bird'}, 'Music'),\n",
       " ({'Personality': 'Cranky', 'Gender': 'Male', 'Species': 'Bird'}, 'Nature'),\n",
       " ({'Personality': 'Cranky', 'Gender': 'Male', 'Species': 'Bird'}, 'Education'),\n",
       " ({'Personality': 'Cranky', 'Gender': 'Male', 'Species': 'Bird'}, 'Play'),\n",
       " ({'Personality': 'Cranky', 'Gender': 'Male', 'Species': 'Bird'}, 'Fitness'),\n",
       " ({'Personality': 'Cranky', 'Gender': 'Male', 'Species': 'Bird'}, 'Education'),\n",
       " ({'Personality': 'Cranky', 'Gender': 'Male', 'Species': 'Bird'}, 'Education'),\n",
       " ({'Personality': 'Cranky', 'Gender': 'Male', 'Species': 'Bird'}, 'Nature'),\n",
       " ({'Personality': 'Cranky', 'Gender': 'Male', 'Species': 'Bird'}, 'Nature'),\n",
       " ({'Personality': 'Cranky', 'Gender': 'Male', 'Species': 'Bird'}, 'Fashion'),\n",
       " ({'Personality': 'Cranky', 'Gender': 'Male', 'Species': 'Bird'}, 'Fitness'),\n",
       " ({'Personality': 'Cranky', 'Gender': 'Male', 'Species': 'Bird'}, 'Nature'),\n",
       " ({'Personality': 'Cranky', 'Gender': 'Male', 'Species': 'Bird'}, 'Nature'),\n",
       " ({'Personality': 'Cranky', 'Gender': 'Male', 'Species': 'Bird'}, 'Play'),\n",
       " ({'Personality': 'Cranky', 'Gender': 'Male', 'Species': 'Bird'}, 'Nature'),\n",
       " ({'Personality': 'Cranky', 'Gender': 'Male', 'Species': 'Bird'}, 'Fitness'),\n",
       " ({'Personality': 'Cranky', 'Gender': 'Male', 'Species': 'Bird'}, 'Nature'),\n",
       " ({'Personality': 'Cranky', 'Gender': 'Male', 'Species': 'Bird'}, 'Music'),\n",
       " ({'Personality': 'Cranky', 'Gender': 'Male', 'Species': 'Bird'}, 'Education'),\n",
       " ({'Personality': 'Cranky', 'Gender': 'Male', 'Species': 'Bird'}, 'Education'),\n",
       " ({'Personality': 'Cranky', 'Gender': 'Male', 'Species': 'Bird'}, 'Education'),\n",
       " ({'Personality': 'Cranky', 'Gender': 'Male', 'Species': 'Bird'}, 'Play'),\n",
       " ({'Personality': 'Cranky', 'Gender': 'Male', 'Species': 'Bird'}, 'Fitness'),\n",
       " ({'Personality': 'Cranky', 'Gender': 'Male', 'Species': 'Bird'}, 'Nature'),\n",
       " ({'Personality': 'Cranky', 'Gender': 'Male', 'Species': 'Bird'}, 'Play'),\n",
       " ({'Personality': 'Cranky', 'Gender': 'Male', 'Species': 'Bird'}, 'Education'),\n",
       " ({'Personality': 'Cranky', 'Gender': 'Male', 'Species': 'Bird'}, 'Fitness'),\n",
       " ({'Personality': 'Cranky', 'Gender': 'Male', 'Species': 'Bird'}, 'Play'),\n",
       " ({'Personality': 'Cranky', 'Gender': 'Male', 'Species': 'Bird'}, 'Nature'),\n",
       " ({'Personality': 'Cranky', 'Gender': 'Male', 'Species': 'Bird'}, 'Education'),\n",
       " ({'Personality': 'Cranky', 'Gender': 'Male', 'Species': 'Bird'}, 'Play'),\n",
       " ({'Personality': 'Cranky', 'Gender': 'Male', 'Species': 'Bird'}, 'Education'),\n",
       " ({'Personality': 'Cranky', 'Gender': 'Male', 'Species': 'Bird'}, 'Fashion'),\n",
       " ({'Personality': 'Cranky', 'Gender': 'Male', 'Species': 'Bird'}, 'Nature'),\n",
       " ({'Personality': 'Cranky', 'Gender': 'Male', 'Species': 'Bird'}, 'Play'),\n",
       " ({'Personality': 'Cranky', 'Gender': 'Male', 'Species': 'Bird'}, 'Fitness'),\n",
       " ({'Personality': 'Cranky', 'Gender': 'Male', 'Species': 'Bird'}, 'Nature'),\n",
       " ({'Personality': 'Cranky', 'Gender': 'Male', 'Species': 'Bird'}, 'Play'),\n",
       " ({'Personality': 'Cranky', 'Gender': 'Male', 'Species': 'Bird'}, 'Fashion'),\n",
       " ({'Personality': 'Cranky', 'Gender': 'Male', 'Species': 'Bird'}, 'Nature'),\n",
       " ({'Personality': 'Cranky', 'Gender': 'Male', 'Species': 'Bird'}, 'Play'),\n",
       " ({'Personality': 'Cranky', 'Gender': 'Male', 'Species': 'Bird'}, 'Fashion'),\n",
       " ({'Personality': 'Cranky', 'Gender': 'Male', 'Species': 'Bird'}, 'Education'),\n",
       " ({'Personality': 'Cranky', 'Gender': 'Male', 'Species': 'Bird'}, 'Nature'),\n",
       " ({'Personality': 'Cranky', 'Gender': 'Male', 'Species': 'Bird'}, 'Music'),\n",
       " ({'Personality': 'Cranky', 'Gender': 'Male', 'Species': 'Bird'}, 'Fashion'),\n",
       " ({'Personality': 'Cranky', 'Gender': 'Male', 'Species': 'Bird'}, 'Education'),\n",
       " ({'Personality': 'Cranky', 'Gender': 'Male', 'Species': 'Bird'}, 'Nature'),\n",
       " ({'Personality': 'Cranky', 'Gender': 'Male', 'Species': 'Bird'}, 'Fashion'),\n",
       " ({'Personality': 'Cranky', 'Gender': 'Male', 'Species': 'Bird'}, 'Nature'),\n",
       " ({'Personality': 'Cranky', 'Gender': 'Male', 'Species': 'Bird'}, 'Music'),\n",
       " ({'Personality': 'Cranky', 'Gender': 'Male', 'Species': 'Bird'}, 'Music'),\n",
       " ({'Personality': 'Cranky', 'Gender': 'Male', 'Species': 'Bird'}, 'Play'),\n",
       " ({'Personality': 'Cranky', 'Gender': 'Male', 'Species': 'Bird'}, 'Nature'),\n",
       " ({'Personality': 'Cranky', 'Gender': 'Male', 'Species': 'Bird'}, 'Fashion'),\n",
       " ({'Personality': 'Cranky', 'Gender': 'Male', 'Species': 'Bird'}, 'Education'),\n",
       " ({'Personality': 'Cranky', 'Gender': 'Male', 'Species': 'Bird'}, 'Fashion'),\n",
       " ({'Personality': 'Cranky', 'Gender': 'Male', 'Species': 'Bird'}, 'Fashion'),\n",
       " ({'Personality': 'Cranky', 'Gender': 'Male', 'Species': 'Bird'}, 'Fashion'),\n",
       " ({'Personality': 'Cranky', 'Gender': 'Male', 'Species': 'Bird'}, 'Music'),\n",
       " ({'Personality': 'Cranky', 'Gender': 'Male', 'Species': 'Bird'}, 'Fitness'),\n",
       " ({'Personality': 'Cranky', 'Gender': 'Male', 'Species': 'Bird'}, 'Music'),\n",
       " ({'Personality': 'Cranky', 'Gender': 'Male', 'Species': 'Bird'}, 'Fashion'),\n",
       " ({'Personality': 'Cranky', 'Gender': 'Male', 'Species': 'Bird'}, 'Education'),\n",
       " ({'Personality': 'Cranky', 'Gender': 'Male', 'Species': 'Bird'}, 'Education'),\n",
       " ({'Personality': 'Cranky', 'Gender': 'Male', 'Species': 'Bird'}, 'Nature'),\n",
       " ({'Personality': 'Cranky', 'Gender': 'Male', 'Species': 'Bird'}, 'Fitness'),\n",
       " ({'Personality': 'Cranky', 'Gender': 'Male', 'Species': 'Bird'}, 'Fashion'),\n",
       " ({'Personality': 'Cranky', 'Gender': 'Male', 'Species': 'Bird'}, 'Education'),\n",
       " ({'Personality': 'Cranky', 'Gender': 'Male', 'Species': 'Bird'}, 'Fashion'),\n",
       " ({'Personality': 'Cranky', 'Gender': 'Male', 'Species': 'Bird'}, 'Nature'),\n",
       " ({'Personality': 'Cranky', 'Gender': 'Male', 'Species': 'Bird'}, 'Nature'),\n",
       " ({'Personality': 'Cranky', 'Gender': 'Male', 'Species': 'Bird'}, 'Fitness'),\n",
       " ({'Personality': 'Cranky', 'Gender': 'Male', 'Species': 'Bird'}, 'Education'),\n",
       " ({'Personality': 'Cranky', 'Gender': 'Male', 'Species': 'Bird'}, 'Education'),\n",
       " ({'Personality': 'Cranky', 'Gender': 'Male', 'Species': 'Bird'}, 'Education'),\n",
       " ({'Personality': 'Cranky', 'Gender': 'Male', 'Species': 'Bird'}, 'Music'),\n",
       " ({'Personality': 'Cranky', 'Gender': 'Male', 'Species': 'Bird'}, 'Music'),\n",
       " ({'Personality': 'Cranky', 'Gender': 'Male', 'Species': 'Bird'}, 'Fashion'),\n",
       " ({'Personality': 'Cranky', 'Gender': 'Male', 'Species': 'Bird'}, 'Play'),\n",
       " ({'Personality': 'Cranky', 'Gender': 'Male', 'Species': 'Bird'}, 'Nature'),\n",
       " ({'Personality': 'Cranky', 'Gender': 'Male', 'Species': 'Bird'}, 'Fitness'),\n",
       " ({'Personality': 'Cranky', 'Gender': 'Male', 'Species': 'Bird'}, 'Education'),\n",
       " ({'Personality': 'Cranky', 'Gender': 'Male', 'Species': 'Bird'}, 'Play'),\n",
       " ({'Personality': 'Cranky', 'Gender': 'Male', 'Species': 'Bird'}, 'Music'),\n",
       " ({'Personality': 'Cranky', 'Gender': 'Male', 'Species': 'Bird'}, 'Education'),\n",
       " ({'Personality': 'Cranky', 'Gender': 'Male', 'Species': 'Bird'}, 'Nature'),\n",
       " ({'Personality': 'Cranky', 'Gender': 'Male', 'Species': 'Bird'}, 'Music'),\n",
       " ({'Personality': 'Cranky', 'Gender': 'Male', 'Species': 'Bird'}, 'Nature'),\n",
       " ({'Personality': 'Cranky', 'Gender': 'Male', 'Species': 'Bird'}, 'Fitness'),\n",
       " ({'Personality': 'Cranky', 'Gender': 'Male', 'Species': 'Bird'}, 'Play'),\n",
       " ({'Personality': 'Cranky', 'Gender': 'Male', 'Species': 'Bird'}, 'Fitness'),\n",
       " ({'Personality': 'Cranky', 'Gender': 'Male', 'Species': 'Bird'}, 'Nature'),\n",
       " ({'Personality': 'Cranky', 'Gender': 'Male', 'Species': 'Bird'}, 'Nature'),\n",
       " ({'Personality': 'Cranky', 'Gender': 'Male', 'Species': 'Bird'}, 'Music'),\n",
       " ({'Personality': 'Cranky', 'Gender': 'Male', 'Species': 'Bird'}, 'Fashion'),\n",
       " ({'Personality': 'Cranky', 'Gender': 'Male', 'Species': 'Bird'}, 'Fitness'),\n",
       " ({'Personality': 'Cranky', 'Gender': 'Male', 'Species': 'Bird'}, 'Play'),\n",
       " ({'Personality': 'Cranky', 'Gender': 'Male', 'Species': 'Bird'}, 'Fitness'),\n",
       " ({'Personality': 'Cranky', 'Gender': 'Male', 'Species': 'Bird'}, 'Play'),\n",
       " ({'Personality': 'Cranky', 'Gender': 'Male', 'Species': 'Bird'}, 'Music'),\n",
       " ({'Personality': 'Cranky', 'Gender': 'Male', 'Species': 'Bird'}, 'Education'),\n",
       " ({'Personality': 'Cranky', 'Gender': 'Male', 'Species': 'Bird'}, 'Music'),\n",
       " ({'Personality': 'Cranky', 'Gender': 'Male', 'Species': 'Bird'}, 'Nature'),\n",
       " ({'Personality': 'Cranky', 'Gender': 'Male', 'Species': 'Bird'}, 'Music'),\n",
       " ({'Personality': 'Cranky', 'Gender': 'Male', 'Species': 'Bird'}, 'Music'),\n",
       " ({'Personality': 'Cranky', 'Gender': 'Male', 'Species': 'Bird'}, 'Music'),\n",
       " ({'Personality': 'Cranky', 'Gender': 'Male', 'Species': 'Bird'}, 'Education'),\n",
       " ({'Personality': 'Cranky', 'Gender': 'Male', 'Species': 'Bird'}, 'Play'),\n",
       " ({'Personality': 'Cranky', 'Gender': 'Male', 'Species': 'Bird'}, 'Play'),\n",
       " ({'Personality': 'Cranky', 'Gender': 'Male', 'Species': 'Bird'}, 'Fitness'),\n",
       " ({'Personality': 'Cranky', 'Gender': 'Male', 'Species': 'Bird'}, 'Education'),\n",
       " ({'Personality': 'Cranky', 'Gender': 'Male', 'Species': 'Bird'}, 'Education'),\n",
       " ({'Personality': 'Cranky', 'Gender': 'Male', 'Species': 'Bird'}, 'Education'),\n",
       " ({'Personality': 'Cranky', 'Gender': 'Male', 'Species': 'Bird'}, 'Fashion'),\n",
       " ({'Personality': 'Cranky', 'Gender': 'Male', 'Species': 'Bird'}, 'Education'),\n",
       " ({'Personality': 'Cranky', 'Gender': 'Male', 'Species': 'Bird'}, 'Education'),\n",
       " ({'Personality': 'Cranky', 'Gender': 'Male', 'Species': 'Bird'}, 'Fitness'),\n",
       " ({'Personality': 'Cranky', 'Gender': 'Male', 'Species': 'Bird'}, 'Music'),\n",
       " ({'Personality': 'Cranky', 'Gender': 'Male', 'Species': 'Bird'}, 'Fitness'),\n",
       " ({'Personality': 'Cranky', 'Gender': 'Male', 'Species': 'Bird'}, 'Education'),\n",
       " ({'Personality': 'Cranky', 'Gender': 'Male', 'Species': 'Bird'}, 'Education'),\n",
       " ({'Personality': 'Cranky', 'Gender': 'Male', 'Species': 'Bird'}, 'Education'),\n",
       " ({'Personality': 'Cranky', 'Gender': 'Male', 'Species': 'Bird'}, 'Music'),\n",
       " ({'Personality': 'Cranky', 'Gender': 'Male', 'Species': 'Bird'}, 'Education'),\n",
       " ({'Personality': 'Cranky', 'Gender': 'Male', 'Species': 'Bird'}, 'Music'),\n",
       " ({'Personality': 'Cranky', 'Gender': 'Male', 'Species': 'Bird'}, 'Education'),\n",
       " ({'Personality': 'Cranky', 'Gender': 'Male', 'Species': 'Bird'}, 'Fitness'),\n",
       " ({'Personality': 'Cranky', 'Gender': 'Male', 'Species': 'Bird'}, 'Fitness'),\n",
       " ({'Personality': 'Cranky', 'Gender': 'Male', 'Species': 'Bird'}, 'Play'),\n",
       " ({'Personality': 'Cranky', 'Gender': 'Male', 'Species': 'Bird'}, 'Music'),\n",
       " ({'Personality': 'Cranky', 'Gender': 'Male', 'Species': 'Bird'}, 'Play'),\n",
       " ({'Personality': 'Cranky', 'Gender': 'Male', 'Species': 'Bird'}, 'Fitness'),\n",
       " ({'Personality': 'Cranky', 'Gender': 'Male', 'Species': 'Bird'}, 'Play'),\n",
       " ({'Personality': 'Cranky', 'Gender': 'Male', 'Species': 'Bird'}, 'Fashion'),\n",
       " ({'Personality': 'Cranky', 'Gender': 'Male', 'Species': 'Bird'}, 'Nature'),\n",
       " ({'Personality': 'Cranky', 'Gender': 'Male', 'Species': 'Bird'}, 'Fashion'),\n",
       " ({'Personality': 'Cranky', 'Gender': 'Male', 'Species': 'Bird'}, 'Education'),\n",
       " ({'Personality': 'Cranky', 'Gender': 'Male', 'Species': 'Bird'}, 'Play'),\n",
       " ({'Personality': 'Cranky', 'Gender': 'Male', 'Species': 'Bird'}, 'Nature'),\n",
       " ({'Personality': 'Cranky', 'Gender': 'Male', 'Species': 'Bird'}, 'Education'),\n",
       " ({'Personality': 'Cranky', 'Gender': 'Male', 'Species': 'Bird'}, 'Music'),\n",
       " ({'Personality': 'Cranky', 'Gender': 'Male', 'Species': 'Bird'}, 'Music'),\n",
       " ({'Personality': 'Cranky', 'Gender': 'Male', 'Species': 'Bird'}, 'Fitness'),\n",
       " ({'Personality': 'Cranky', 'Gender': 'Male', 'Species': 'Bird'}, 'Nature'),\n",
       " ({'Personality': 'Cranky', 'Gender': 'Male', 'Species': 'Bird'}, 'Education'),\n",
       " ({'Personality': 'Cranky', 'Gender': 'Male', 'Species': 'Bird'}, 'Nature'),\n",
       " ({'Personality': 'Cranky', 'Gender': 'Male', 'Species': 'Bird'}, 'Fashion'),\n",
       " ({'Personality': 'Cranky', 'Gender': 'Male', 'Species': 'Bird'}, 'Education'),\n",
       " ({'Personality': 'Cranky', 'Gender': 'Male', 'Species': 'Bird'}, 'Fashion'),\n",
       " ({'Personality': 'Cranky', 'Gender': 'Male', 'Species': 'Bird'}, 'Fitness'),\n",
       " ({'Personality': 'Cranky', 'Gender': 'Male', 'Species': 'Bird'}, 'Fashion'),\n",
       " ({'Personality': 'Cranky', 'Gender': 'Male', 'Species': 'Bird'}, 'Education'),\n",
       " ({'Personality': 'Cranky', 'Gender': 'Male', 'Species': 'Bird'}, 'Play'),\n",
       " ({'Personality': 'Cranky', 'Gender': 'Male', 'Species': 'Bird'}, 'Nature'),\n",
       " ({'Personality': 'Cranky', 'Gender': 'Male', 'Species': 'Bird'}, 'Fashion'),\n",
       " ({'Personality': 'Cranky', 'Gender': 'Male', 'Species': 'Bird'}, 'Education'),\n",
       " ({'Personality': 'Cranky', 'Gender': 'Male', 'Species': 'Bird'}, 'Fitness'),\n",
       " ({'Personality': 'Cranky', 'Gender': 'Male', 'Species': 'Bird'}, 'Fitness'),\n",
       " ({'Personality': 'Cranky', 'Gender': 'Male', 'Species': 'Bird'}, 'Music'),\n",
       " ({'Personality': 'Cranky', 'Gender': 'Male', 'Species': 'Bird'}, 'Education'),\n",
       " ({'Personality': 'Cranky', 'Gender': 'Male', 'Species': 'Bird'}, 'Nature'),\n",
       " ({'Personality': 'Cranky', 'Gender': 'Male', 'Species': 'Bird'}, 'Education'),\n",
       " ({'Personality': 'Cranky', 'Gender': 'Male', 'Species': 'Bird'}, 'Fashion'),\n",
       " ({'Personality': 'Cranky', 'Gender': 'Male', 'Species': 'Bird'}, 'Play'),\n",
       " ({'Personality': 'Cranky', 'Gender': 'Male', 'Species': 'Bird'}, 'Fashion'),\n",
       " ({'Personality': 'Cranky', 'Gender': 'Male', 'Species': 'Bird'}, 'Nature'),\n",
       " ({'Personality': 'Cranky', 'Gender': 'Male', 'Species': 'Bird'}, 'Nature'),\n",
       " ({'Personality': 'Cranky', 'Gender': 'Male', 'Species': 'Bird'}, 'Play'),\n",
       " ({'Personality': 'Cranky', 'Gender': 'Male', 'Species': 'Bird'}, 'Education'),\n",
       " ({'Personality': 'Cranky', 'Gender': 'Male', 'Species': 'Bird'}, 'Nature'),\n",
       " ({'Personality': 'Cranky', 'Gender': 'Male', 'Species': 'Bird'}, 'Music'),\n",
       " ({'Personality': 'Cranky', 'Gender': 'Male', 'Species': 'Bird'}, 'Fashion'),\n",
       " ({'Personality': 'Cranky', 'Gender': 'Male', 'Species': 'Bird'}, 'Play'),\n",
       " ({'Personality': 'Cranky', 'Gender': 'Male', 'Species': 'Bird'}, 'Music'),\n",
       " ({'Personality': 'Cranky', 'Gender': 'Male', 'Species': 'Bird'}, 'Fashion'),\n",
       " ({'Personality': 'Cranky', 'Gender': 'Male', 'Species': 'Bird'}, 'Nature'),\n",
       " ({'Personality': 'Cranky', 'Gender': 'Male', 'Species': 'Bird'}, 'Nature'),\n",
       " ({'Personality': 'Cranky', 'Gender': 'Male', 'Species': 'Bird'}, 'Music'),\n",
       " ({'Personality': 'Cranky', 'Gender': 'Male', 'Species': 'Bird'}, 'Fashion'),\n",
       " ({'Personality': 'Cranky', 'Gender': 'Male', 'Species': 'Bird'}, 'Fashion'),\n",
       " ({'Personality': 'Cranky', 'Gender': 'Male', 'Species': 'Bird'}, 'Fitness'),\n",
       " ({'Personality': 'Cranky', 'Gender': 'Male', 'Species': 'Bird'}, 'Education'),\n",
       " ({'Personality': 'Cranky', 'Gender': 'Male', 'Species': 'Bird'}, 'Fashion'),\n",
       " ({'Personality': 'Cranky', 'Gender': 'Male', 'Species': 'Bird'}, 'Fashion'),\n",
       " ({'Personality': 'Cranky', 'Gender': 'Male', 'Species': 'Bird'}, 'Play'),\n",
       " ({'Personality': 'Cranky', 'Gender': 'Male', 'Species': 'Bird'}, 'Fitness'),\n",
       " ({'Personality': 'Cranky', 'Gender': 'Male', 'Species': 'Bird'}, 'Fashion'),\n",
       " ({'Personality': 'Cranky', 'Gender': 'Male', 'Species': 'Bird'}, 'Nature'),\n",
       " ({'Personality': 'Cranky', 'Gender': 'Male', 'Species': 'Bird'}, 'Fashion'),\n",
       " ({'Personality': 'Cranky', 'Gender': 'Male', 'Species': 'Bird'}, 'Music'),\n",
       " ({'Personality': 'Cranky', 'Gender': 'Male', 'Species': 'Bird'}, 'Fitness'),\n",
       " ({'Personality': 'Cranky', 'Gender': 'Male', 'Species': 'Bird'}, 'Fitness'),\n",
       " ({'Personality': 'Cranky', 'Gender': 'Male', 'Species': 'Bird'}, 'Music'),\n",
       " ({'Personality': 'Cranky', 'Gender': 'Male', 'Species': 'Bird'}, 'Fashion'),\n",
       " ({'Personality': 'Cranky', 'Gender': 'Male', 'Species': 'Bird'}, 'Play'),\n",
       " ({'Personality': 'Cranky', 'Gender': 'Male', 'Species': 'Bird'}, 'Fashion'),\n",
       " ({'Personality': 'Cranky', 'Gender': 'Male', 'Species': 'Bird'}, 'Play'),\n",
       " ({'Personality': 'Cranky', 'Gender': 'Male', 'Species': 'Bird'}, 'Music'),\n",
       " ({'Personality': 'Cranky', 'Gender': 'Male', 'Species': 'Bird'}, 'Fitness'),\n",
       " ({'Personality': 'Cranky', 'Gender': 'Male', 'Species': 'Bird'}, 'Education'),\n",
       " ({'Personality': 'Cranky', 'Gender': 'Male', 'Species': 'Bird'}, 'Fashion'),\n",
       " ({'Personality': 'Cranky', 'Gender': 'Male', 'Species': 'Bird'}, 'Play'),\n",
       " ({'Personality': 'Cranky', 'Gender': 'Male', 'Species': 'Bird'}, 'Fitness'),\n",
       " ({'Personality': 'Cranky', 'Gender': 'Male', 'Species': 'Bird'}, 'Fashion'),\n",
       " ({'Personality': 'Cranky', 'Gender': 'Male', 'Species': 'Bird'}, 'Play'),\n",
       " ({'Personality': 'Cranky', 'Gender': 'Male', 'Species': 'Bird'}, 'Play'),\n",
       " ({'Personality': 'Cranky', 'Gender': 'Male', 'Species': 'Bird'}, 'Fashion'),\n",
       " ({'Personality': 'Cranky', 'Gender': 'Male', 'Species': 'Bird'}, 'Fashion'),\n",
       " ({'Personality': 'Cranky', 'Gender': 'Male', 'Species': 'Bird'}, 'Music'),\n",
       " ({'Personality': 'Cranky', 'Gender': 'Male', 'Species': 'Bird'}, 'Nature'),\n",
       " ({'Personality': 'Cranky', 'Gender': 'Male', 'Species': 'Bird'}, 'Music'),\n",
       " ({'Personality': 'Cranky', 'Gender': 'Male', 'Species': 'Bird'}, 'Nature'),\n",
       " ({'Personality': 'Cranky', 'Gender': 'Male', 'Species': 'Bird'}, 'Music'),\n",
       " ({'Personality': 'Cranky', 'Gender': 'Male', 'Species': 'Bird'}, 'Play'),\n",
       " ({'Personality': 'Cranky', 'Gender': 'Male', 'Species': 'Bird'}, 'Nature'),\n",
       " ({'Personality': 'Cranky', 'Gender': 'Male', 'Species': 'Bird'}, 'Music'),\n",
       " ({'Personality': 'Cranky', 'Gender': 'Male', 'Species': 'Bird'}, 'Fitness'),\n",
       " ({'Personality': 'Cranky', 'Gender': 'Male', 'Species': 'Bird'}, 'Education'),\n",
       " ({'Personality': 'Cranky', 'Gender': 'Male', 'Species': 'Bird'}, 'Education'),\n",
       " ({'Personality': 'Cranky', 'Gender': 'Male', 'Species': 'Bird'}, 'Fitness'),\n",
       " ({'Personality': 'Cranky', 'Gender': 'Male', 'Species': 'Bird'}, 'Fashion'),\n",
       " ({'Personality': 'Cranky', 'Gender': 'Male', 'Species': 'Bird'}, 'Education'),\n",
       " ({'Personality': 'Cranky', 'Gender': 'Male', 'Species': 'Bird'}, 'Fitness'),\n",
       " ({'Personality': 'Cranky', 'Gender': 'Male', 'Species': 'Bird'}, 'Fitness'),\n",
       " ({'Personality': 'Cranky', 'Gender': 'Male', 'Species': 'Bird'}, 'Fitness'),\n",
       " ({'Personality': 'Cranky', 'Gender': 'Male', 'Species': 'Bird'}, 'Music'),\n",
       " ({'Personality': 'Cranky', 'Gender': 'Male', 'Species': 'Bird'}, 'Fitness'),\n",
       " ({'Personality': 'Cranky', 'Gender': 'Male', 'Species': 'Bird'}, 'Fitness'),\n",
       " ({'Personality': 'Cranky', 'Gender': 'Male', 'Species': 'Bird'}, 'Music'),\n",
       " ({'Personality': 'Cranky', 'Gender': 'Male', 'Species': 'Bird'}, 'Music'),\n",
       " ({'Personality': 'Cranky', 'Gender': 'Male', 'Species': 'Bird'}, 'Music'),\n",
       " ({'Personality': 'Cranky', 'Gender': 'Male', 'Species': 'Bird'}, 'Fitness'),\n",
       " ({'Personality': 'Cranky', 'Gender': 'Male', 'Species': 'Bird'}, 'Nature'),\n",
       " ({'Personality': 'Cranky', 'Gender': 'Male', 'Species': 'Bird'}, 'Play'),\n",
       " ({'Personality': 'Cranky', 'Gender': 'Male', 'Species': 'Bird'}, 'Music'),\n",
       " ({'Personality': 'Cranky', 'Gender': 'Male', 'Species': 'Bird'}, 'Fitness'),\n",
       " ({'Personality': 'Cranky', 'Gender': 'Male', 'Species': 'Bird'}, 'Nature'),\n",
       " ({'Personality': 'Cranky', 'Gender': 'Male', 'Species': 'Bird'}, 'Music'),\n",
       " ({'Personality': 'Cranky', 'Gender': 'Male', 'Species': 'Bird'}, 'Fitness'),\n",
       " ({'Personality': 'Cranky', 'Gender': 'Male', 'Species': 'Bird'}, 'Music'),\n",
       " ({'Personality': 'Cranky', 'Gender': 'Male', 'Species': 'Bird'}, 'Play'),\n",
       " ({'Personality': 'Cranky', 'Gender': 'Male', 'Species': 'Bird'}, 'Education'),\n",
       " ({'Personality': 'Cranky', 'Gender': 'Male', 'Species': 'Bird'}, 'Nature'),\n",
       " ({'Personality': 'Cranky', 'Gender': 'Male', 'Species': 'Bird'}, 'Play'),\n",
       " ({'Personality': 'Cranky', 'Gender': 'Male', 'Species': 'Bird'}, 'Music'),\n",
       " ({'Personality': 'Cranky', 'Gender': 'Male', 'Species': 'Bird'}, 'Play'),\n",
       " ({'Personality': 'Cranky', 'Gender': 'Male', 'Species': 'Bird'}, 'Fitness'),\n",
       " ({'Personality': 'Cranky', 'Gender': 'Male', 'Species': 'Bird'}, 'Education'),\n",
       " ({'Personality': 'Cranky', 'Gender': 'Male', 'Species': 'Bird'}, 'Education'),\n",
       " ({'Personality': 'Cranky', 'Gender': 'Male', 'Species': 'Bird'}, 'Play'),\n",
       " ({'Personality': 'Cranky', 'Gender': 'Male', 'Species': 'Bird'}, 'Nature'),\n",
       " ({'Personality': 'Cranky', 'Gender': 'Male', 'Species': 'Bird'}, 'Play'),\n",
       " ({'Personality': 'Cranky', 'Gender': 'Male', 'Species': 'Bird'}, 'Play'),\n",
       " ({'Personality': 'Cranky', 'Gender': 'Male', 'Species': 'Bird'}, 'Music'),\n",
       " ({'Personality': 'Cranky', 'Gender': 'Male', 'Species': 'Bird'}, 'Music'),\n",
       " ({'Personality': 'Cranky', 'Gender': 'Male', 'Species': 'Bird'}, 'Nature'),\n",
       " ({'Personality': 'Cranky', 'Gender': 'Male', 'Species': 'Bird'}, 'Fitness'),\n",
       " ({'Personality': 'Cranky', 'Gender': 'Male', 'Species': 'Bird'}, 'Fitness'),\n",
       " ({'Personality': 'Cranky', 'Gender': 'Male', 'Species': 'Bird'}, 'Play'),\n",
       " ({'Personality': 'Cranky', 'Gender': 'Male', 'Species': 'Bird'}, 'Nature'),\n",
       " ({'Personality': 'Cranky', 'Gender': 'Male', 'Species': 'Bird'}, 'Music'),\n",
       " ({'Personality': 'Cranky', 'Gender': 'Male', 'Species': 'Bird'}, 'Nature'),\n",
       " ({'Personality': 'Cranky', 'Gender': 'Male', 'Species': 'Bird'}, 'Music'),\n",
       " ({'Personality': 'Cranky', 'Gender': 'Male', 'Species': 'Bird'}, 'Education'),\n",
       " ({'Personality': 'Cranky', 'Gender': 'Male', 'Species': 'Bird'}, 'Music'),\n",
       " ({'Personality': 'Cranky', 'Gender': 'Male', 'Species': 'Bird'}, 'Play'),\n",
       " ({'Personality': 'Cranky', 'Gender': 'Male', 'Species': 'Bird'}, 'Fashion'),\n",
       " ({'Personality': 'Cranky', 'Gender': 'Male', 'Species': 'Bird'}, 'Play'),\n",
       " ({'Personality': 'Cranky', 'Gender': 'Male', 'Species': 'Bird'}, 'Music'),\n",
       " ({'Personality': 'Cranky', 'Gender': 'Male', 'Species': 'Bird'}, 'Fitness'),\n",
       " ({'Personality': 'Cranky', 'Gender': 'Male', 'Species': 'Bird'}, 'Fitness'),\n",
       " ({'Personality': 'Cranky', 'Gender': 'Male', 'Species': 'Bird'}, 'Fitness'),\n",
       " ({'Personality': 'Cranky', 'Gender': 'Male', 'Species': 'Bird'}, 'Music'),\n",
       " ({'Personality': 'Cranky', 'Gender': 'Male', 'Species': 'Bird'}, 'Nature'),\n",
       " ({'Personality': 'Cranky', 'Gender': 'Male', 'Species': 'Bird'}, 'Fashion'),\n",
       " ({'Personality': 'Cranky', 'Gender': 'Male', 'Species': 'Bird'}, 'Education'),\n",
       " ({'Personality': 'Cranky', 'Gender': 'Male', 'Species': 'Bird'}, 'Fashion'),\n",
       " ({'Personality': 'Cranky', 'Gender': 'Male', 'Species': 'Bird'}, 'Education'),\n",
       " ({'Personality': 'Cranky', 'Gender': 'Male', 'Species': 'Bird'}, 'Fashion'),\n",
       " ({'Personality': 'Cranky', 'Gender': 'Male', 'Species': 'Bird'}, 'Nature'),\n",
       " ({'Personality': 'Cranky', 'Gender': 'Male', 'Species': 'Bird'}, 'Fashion'),\n",
       " ({'Personality': 'Cranky', 'Gender': 'Male', 'Species': 'Bird'}, 'Fashion'),\n",
       " ({'Personality': 'Cranky', 'Gender': 'Male', 'Species': 'Bird'}, 'Play'),\n",
       " ({'Personality': 'Cranky', 'Gender': 'Male', 'Species': 'Bird'}, 'Music'),\n",
       " ({'Personality': 'Cranky', 'Gender': 'Male', 'Species': 'Bird'}, 'Education'),\n",
       " ({'Personality': 'Cranky', 'Gender': 'Male', 'Species': 'Bird'}, 'Fashion'),\n",
       " ({'Personality': 'Cranky', 'Gender': 'Male', 'Species': 'Bird'}, 'Fitness'),\n",
       " ({'Personality': 'Cranky', 'Gender': 'Male', 'Species': 'Bird'}, 'Fitness'),\n",
       " ({'Personality': 'Cranky', 'Gender': 'Male', 'Species': 'Bird'}, 'Fitness'),\n",
       " ({'Personality': 'Cranky', 'Gender': 'Male', 'Species': 'Bird'}, 'Education'),\n",
       " ({'Personality': 'Cranky', 'Gender': 'Male', 'Species': 'Bird'}, 'Play'),\n",
       " ({'Personality': 'Cranky', 'Gender': 'Male', 'Species': 'Bird'}, 'Nature'),\n",
       " ({'Personality': 'Cranky', 'Gender': 'Male', 'Species': 'Bird'}, 'Play'),\n",
       " ({'Personality': 'Cranky', 'Gender': 'Male', 'Species': 'Bird'}, 'Fitness'),\n",
       " ({'Personality': 'Cranky', 'Gender': 'Male', 'Species': 'Bird'}, 'Education'),\n",
       " ({'Personality': 'Cranky', 'Gender': 'Male', 'Species': 'Bird'}, 'Nature'),\n",
       " ({'Personality': 'Cranky', 'Gender': 'Male', 'Species': 'Bird'}, 'Fashion'),\n",
       " ({'Personality': 'Cranky', 'Gender': 'Male', 'Species': 'Bird'}, 'Fashion'),\n",
       " ({'Personality': 'Cranky', 'Gender': 'Male', 'Species': 'Bird'}, 'Fashion'),\n",
       " ({'Personality': 'Cranky', 'Gender': 'Male', 'Species': 'Bird'}, 'Fashion'),\n",
       " ({'Personality': 'Cranky', 'Gender': 'Male', 'Species': 'Bird'}, 'Education'),\n",
       " ({'Personality': 'Cranky', 'Gender': 'Male', 'Species': 'Bird'}, 'Fashion'),\n",
       " ({'Personality': 'Cranky', 'Gender': 'Male', 'Species': 'Bird'}, 'Music'),\n",
       " ({'Personality': 'Cranky', 'Gender': 'Male', 'Species': 'Bird'}, 'Nature')]"
      ]
     },
     "execution_count": 402,
     "metadata": {},
     "output_type": "execute_result"
    }
   ],
   "source": [
    "# using list comprehension\n",
    "# we are creating a list of tuples\n",
    "feature_sets = [ (create_features(x), y) for x, y in features_and_labels ]\n",
    "feature_sets"
   ]
  },
  {
   "cell_type": "code",
   "execution_count": 403,
   "id": "860a7c61",
   "metadata": {},
   "outputs": [],
   "source": [
    "# always want to shuffle your dataset before classifying\n",
    "import random\n",
    "random.shuffle(feature_sets)"
   ]
  },
  {
   "cell_type": "code",
   "execution_count": 404,
   "id": "27c6aad0",
   "metadata": {},
   "outputs": [
    {
     "data": {
      "text/plain": [
       "391"
      ]
     },
     "execution_count": 404,
     "metadata": {},
     "output_type": "execute_result"
    }
   ],
   "source": [
    "# let's look at how many feature sets we have\n",
    "len(feature_sets)"
   ]
  },
  {
   "cell_type": "code",
   "execution_count": 405,
   "id": "94c933fc",
   "metadata": {},
   "outputs": [
    {
     "data": {
      "text/plain": [
       "312.8"
      ]
     },
     "execution_count": 405,
     "metadata": {},
     "output_type": "execute_result"
    }
   ],
   "source": [
    "# determine what 80% of this number would look like\n",
    "391 * .8"
   ]
  },
  {
   "cell_type": "code",
   "execution_count": 406,
   "id": "af262346",
   "metadata": {},
   "outputs": [],
   "source": [
    "# spliting our training set and testing set into a 80/20 ratio\n",
    "# training is about 'learning'\n",
    "# testing is to determine accuracy \n",
    "training_set = feature_sets[:312]\n",
    "testing_set = feature_sets[312:]"
   ]
  },
  {
   "cell_type": "code",
   "execution_count": 407,
   "id": "3689d14a",
   "metadata": {},
   "outputs": [],
   "source": [
    "import nltk\n",
    "\n",
    "# build our first classifier!\n",
    "classifier = nltk.NaiveBayesClassifier.train(training_set)"
   ]
  },
  {
   "cell_type": "code",
   "execution_count": 408,
   "id": "a910b1c4",
   "metadata": {},
   "outputs": [
    {
     "data": {
      "text/plain": [
       "'Nature'"
      ]
     },
     "execution_count": 408,
     "metadata": {},
     "output_type": "execute_result"
    }
   ],
   "source": [
    "# test out our classifier\n",
    "classifier.classify(create_features(['Cranky', 'Male', 'Bird']))"
   ]
  },
  {
   "cell_type": "code",
   "execution_count": 409,
   "id": "f2da27ff",
   "metadata": {},
   "outputs": [
    {
     "name": "stdout",
     "output_type": "stream",
     "text": [
      "0.08860759493670886\n"
     ]
    }
   ],
   "source": [
    "# how accurate is our classifier?\n",
    "print(nltk.classify.accuracy(classifier, testing_set))"
   ]
  },
  {
   "cell_type": "code",
   "execution_count": 410,
   "id": "ed129d64",
   "metadata": {},
   "outputs": [
    {
     "name": "stdout",
     "output_type": "stream",
     "text": [
      "Most Informative Features\n",
      "                  Gender = 'Male'         Educat : Play   =      1.0 : 1.0\n",
      "             Personality = 'Cranky'       Educat : Play   =      1.0 : 1.0\n",
      "                 Species = 'Bird'         Educat : Play   =      1.0 : 1.0\n"
     ]
    }
   ],
   "source": [
    "# show which features were most important for the algorithm\n",
    "classifier.show_most_informative_features(12)"
   ]
  },
  {
   "cell_type": "code",
   "execution_count": null,
   "id": "273c2aac",
   "metadata": {},
   "outputs": [],
   "source": []
  }
 ],
 "metadata": {
  "kernelspec": {
   "display_name": "Python 3 (ipykernel)",
   "language": "python",
   "name": "python3"
  },
  "language_info": {
   "codemirror_mode": {
    "name": "ipython",
    "version": 3
   },
   "file_extension": ".py",
   "mimetype": "text/x-python",
   "name": "python",
   "nbconvert_exporter": "python",
   "pygments_lexer": "ipython3",
   "version": "3.11.0"
  }
 },
 "nbformat": 4,
 "nbformat_minor": 5
}
